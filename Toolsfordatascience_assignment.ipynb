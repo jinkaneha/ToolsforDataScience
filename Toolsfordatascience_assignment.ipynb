{
 "cells": [
  {
   "cell_type": "markdown",
   "id": "290d023c",
   "metadata": {},
   "source": [
    "\n",
    "# Data Science Tools and Ecosystem \n"
   ]
  },
  {
   "cell_type": "markdown",
   "id": "d51172be",
   "metadata": {},
   "source": [
    "In this notebook, Data Science Tools and Ecosystem are summarized.\n"
   ]
  },
  {
   "cell_type": "markdown",
   "id": "9897ca2f",
   "metadata": {},
   "source": [
    "Some of the popular languages that Data Scientists use are:\n",
    "1. Python\n",
    "2. R\n",
    "3. Julia\n",
    "4. Java"
   ]
  },
  {
   "cell_type": "markdown",
   "id": "263c58cb",
   "metadata": {},
   "source": [
    "Some of the commonly used libraries used by Data Scientists include:\n",
    "- matplotlib\n",
    "- pandas\n",
    "- numpy"
   ]
  },
  {
   "cell_type": "markdown",
   "id": "19eca6ef",
   "metadata": {},
   "source": [
    "|DataScienceTools|\n",
    "|----------------|\n",
    "|PowerBi|\n",
    "|SQL|\n",
    "|Tableau|\n"
   ]
  },
  {
   "cell_type": "markdown",
   "id": "23aac2b4",
   "metadata": {},
   "source": [
    "### Below are a few examples of evaluating arithmetic expressions in Python"
   ]
  },
  {
   "cell_type": "code",
   "execution_count": 6,
   "id": "ea03be89",
   "metadata": {},
   "outputs": [
    {
     "data": {
      "text/plain": [
       "17"
      ]
     },
     "execution_count": 6,
     "metadata": {},
     "output_type": "execute_result"
    }
   ],
   "source": [
    "#This a simple arithmetic expression to mutiply then add integers\n",
    "(3*4)+5"
   ]
  },
  {
   "cell_type": "code",
   "execution_count": 11,
   "id": "697a2277",
   "metadata": {},
   "outputs": [
    {
     "name": "stdout",
     "output_type": "stream",
     "text": [
      "3.3333333333333335\n"
     ]
    }
   ],
   "source": [
    "#This will convert 200 minutes to hours by diving by 60\n",
    "hours=(200/60)\n",
    "print(hours)"
   ]
  },
  {
   "cell_type": "markdown",
   "id": "a9b58032",
   "metadata": {},
   "source": [
    "**Objectives:**\n",
    "* Python,R are popular languages used in Datascience\n",
    "* numpy,pandas are the most used liraries i Datascience\n",
    "* Tableau,SQL are the tools used in Datascience"
   ]
  },
  {
   "cell_type": "markdown",
   "id": "4120cccb",
   "metadata": {},
   "source": [
    "## Author\n",
    "Neha"
   ]
  },
  {
   "cell_type": "code",
   "execution_count": null,
   "id": "0f2e1d2e",
   "metadata": {},
   "outputs": [],
   "source": []
  }
 ],
 "metadata": {
  "kernelspec": {
   "display_name": "Python 3 (ipykernel)",
   "language": "python",
   "name": "python3"
  },
  "language_info": {
   "codemirror_mode": {
    "name": "ipython",
    "version": 3
   },
   "file_extension": ".py",
   "mimetype": "text/x-python",
   "name": "python",
   "nbconvert_exporter": "python",
   "pygments_lexer": "ipython3",
   "version": "3.11.3"
  }
 },
 "nbformat": 4,
 "nbformat_minor": 5
}
